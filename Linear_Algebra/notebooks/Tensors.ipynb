{
 "cells": [
  {
   "cell_type": "markdown",
   "metadata": {},
   "source": [
    "# Scalars (Rank 0 Tensors)"
   ]
  },
  {
   "cell_type": "markdown",
   "metadata": {},
   "source": [
    "## Python"
   ]
  },
  {
   "cell_type": "code",
   "execution_count": 13,
   "metadata": {},
   "outputs": [
    {
     "name": "stdout",
     "output_type": "stream",
     "text": [
      "25\n",
      "<class 'int'>\n",
      "30\n",
      "<class 'int'>\n",
      "30.0\n",
      "<class 'float'>\n"
     ]
    }
   ],
   "source": [
    "x_py = 25\n",
    "x_py_float = 25.0\n",
    "y_py = 5\n",
    "\n",
    "print(x)\n",
    "print(type(x))\n",
    "print(x_py + y_py)\n",
    "print(type(x_py + y_py))\n",
    "print(x_py_float + y_py)\n",
    "print(type(x_py_float + y_py))"
   ]
  },
  {
   "cell_type": "markdown",
   "metadata": {},
   "source": [
    "## Numpy"
   ]
  },
  {
   "cell_type": "code",
   "execution_count": 19,
   "metadata": {},
   "outputs": [
    {
     "name": "stdout",
     "output_type": "stream",
     "text": [
      "25\n",
      "<class 'numpy.int16'>\n",
      "30\n",
      "<class 'numpy.int64'>\n",
      "<class 'numpy.float64'>\n"
     ]
    }
   ],
   "source": [
    "import numpy as np\n",
    "x_np = np.int16(25)\n",
    "x_np_float = np.float64(25)\n",
    "y_np = np.int64(5)\n",
    "\n",
    "sum_np = x_np + y_np\n",
    "sum_np_float = x_np_float + y_np\n",
    "print(x_np)\n",
    "print(type(x_np))\n",
    "print(sum_np)\n",
    "print(type(sum_np))\n",
    "print(type(sum_np_float))\n"
   ]
  },
  {
   "cell_type": "markdown",
   "metadata": {},
   "source": [
    "## Pytorch"
   ]
  },
  {
   "cell_type": "code",
   "execution_count": 57,
   "metadata": {},
   "outputs": [
    {
     "name": "stdout",
     "output_type": "stream",
     "text": [
      "tensor(25)\n",
      "torch.Size([])\n",
      "tensor(30., dtype=torch.float16)\n",
      "<class 'torch.Tensor'>\n",
      "()\n"
     ]
    }
   ],
   "source": [
    "import torch\n",
    "\n",
    "x_pt = torch.tensor(25) # type specification optional, e.g.: dtype=torch.float16\n",
    "y_pt = torch.tensor(5, dtype=torch.float16)\n",
    "print(x_pt)\n",
    "print(x_pt.shape)\n",
    "sum_pt = x_pt + y_pt\n",
    "print(sum_pt)\n",
    "print(type(sum_pt))\n",
    "print(sum_pt.numpy().shape)"
   ]
  },
  {
   "cell_type": "markdown",
   "metadata": {},
   "source": [
    "## Tensorflow"
   ]
  },
  {
   "cell_type": "markdown",
   "metadata": {},
   "source": [
    "Tensors created with a wrapper, all of which you can read about here:\n",
    "\n",
    "    tf.Variable\n",
    "    tf.constant\n",
    "    tf.placeholder\n",
    "    tf.SparseTensor\n"
   ]
  },
  {
   "cell_type": "code",
   "execution_count": 50,
   "metadata": {},
   "outputs": [
    {
     "name": "stdout",
     "output_type": "stream",
     "text": [
      "tf.Tensor(4, shape=(), dtype=int32)\n",
      "4\n",
      "<tf.Variable 'Variable:0' shape=() dtype=int16, numpy=25>\n",
      "()\n",
      "tf.Tensor(30, shape=(), dtype=int16)\n",
      "30\n",
      "<tf.Variable 'Variable:0' shape=() dtype=float16, numpy=25.0>\n",
      "*ERROR* Cannot add int and float\n"
     ]
    }
   ],
   "source": [
    "import tensorflow as tf\n",
    "rank_0_tensor = tf.constant(4)\n",
    "print(rank_0_tensor)\n",
    "# Transform to Numpy\n",
    "print(rank_0_tensor.numpy())\n",
    "x_tf = tf.Variable(25, dtype=tf.int16) # dtype is optional\n",
    "print(x_tf)\n",
    "print(x_tf.shape)\n",
    "y_tf = tf.Variable(5, dtype=tf.int16)\n",
    "sum_tf = x_tf + y_tf\n",
    "tf_sum = tf.add(x_tf, y_tf)\n",
    "print(tf_sum)\n",
    "print(tf_sum.numpy())\n",
    "type(tf_sum.numpy())\n",
    "\n",
    "tf_float = tf.Variable(25., dtype=tf.float16)\n",
    "print(tf_float)\n",
    "try:\n",
    "    tf_sum2 = tf.add(x_tf, tf_float)\n",
    "    print(tf_sum2.numpy())\n",
    "    print(type(tf_sum2))    \n",
    "except:\n",
    "    print(\"*ERROR* Cannot add int and float\")\n",
    "\n"
   ]
  },
  {
   "cell_type": "markdown",
   "metadata": {},
   "source": [
    "## JAX"
   ]
  },
  {
   "cell_type": "code",
   "execution_count": 20,
   "metadata": {},
   "outputs": [],
   "source": [
    "import jax.numpy as jnp"
   ]
  },
  {
   "cell_type": "code",
   "execution_count": 25,
   "metadata": {},
   "outputs": [
    {
     "name": "stdout",
     "output_type": "stream",
     "text": [
      "25\n",
      "<class 'jaxlib.xla_extension.ArrayImpl'>\n",
      "30.0\n",
      "<class 'jaxlib.xla_extension.ArrayImpl'>\n"
     ]
    }
   ],
   "source": [
    "x_jx = jnp.int32(25)\n",
    "y_jx = jnp.float32(5)\n",
    "sum_jx = x_jx + y_jx\n",
    "print(x_jx)\n",
    "print(type(x_jx))\n",
    "print(sum_jx)\n",
    "print(type(sum_jx))"
   ]
  },
  {
   "cell_type": "markdown",
   "metadata": {},
   "source": [
    "# Vector (Rank 1 Tensors)"
   ]
  },
  {
   "cell_type": "markdown",
   "metadata": {},
   "source": [
    "## Numpy"
   ]
  },
  {
   "cell_type": "code",
   "execution_count": 73,
   "metadata": {},
   "outputs": [
    {
     "name": "stdout",
     "output_type": "stream",
     "text": [
      "[10  2  5]\n",
      "3\n",
      "(3,)\n",
      "<class 'numpy.ndarray'>\n",
      "<class 'numpy.int64'>\n",
      "[0 1 2 3 4 5 6 7 8 9]\n"
     ]
    }
   ],
   "source": [
    "# NumPy: mutable arrays\n",
    "x_arr_np = np.array([25, 2, 5]) # type argument is optional, e.g.: dtype=np.float16\n",
    "y_arr_np = np.arange(10)\n",
    "z_arr_np = np.zeros(3) \n",
    "\n",
    "x_arr_np[0] = 10\n",
    "print(x_arr_np)\n",
    "print(len(x_arr_np))\n",
    "print(x_arr_np.shape)\n",
    "print(type(x_arr_np))\n",
    "print(type(x_arr_np[0]))\n",
    "\n",
    "# Transposing a regular 1-D array has no effect...\n",
    "x_arr_np_t = x_arr_np.T\n",
    "print(x_arr_np_t)\n",
    "\n"
   ]
  },
  {
   "cell_type": "markdown",
   "metadata": {},
   "source": [
    "## JAX"
   ]
  },
  {
   "cell_type": "code",
   "execution_count": 75,
   "metadata": {},
   "outputs": [
    {
     "name": "stdout",
     "output_type": "stream",
     "text": [
      "[25  2  5]\n",
      "<class 'jaxlib.xla_extension.ArrayImpl'>\n",
      "[0 1 2 3 4 5 6 7 8 9]\n",
      "<class 'jaxlib.xla_extension.ArrayImpl'>\n",
      "[0. 0. 0.]\n",
      "<class 'jaxlib.xla_extension.ArrayImpl'>\n",
      "[25  2  5]\n",
      "[25  2  5]\n"
     ]
    }
   ],
   "source": [
    "x_arr_jx = jnp.array([25, 2, 5]) # type argument is optional, e.g.: dtype=np.float16\n",
    "y_arr_jx = jnp.arange(10)\n",
    "z_arr_jx = jnp.zeros(3) \n",
    "\n",
    "print(x_arr_jx)\n",
    "print(type(x_arr_jx))\n",
    "print(y_arr_jx)\n",
    "print(type(y_arr_jx))\n",
    "print(z_arr_jx)\n",
    "print(type(z_arr_jx))\n",
    "\n",
    "# Transposing a regular 1-D array has no effect...\n",
    "x_arr_jx_t = x_arr_jx.T\n",
    "print(x_arr_jx_t)\n",
    "print(jnp.transpose(x_arr_jx_t))"
   ]
  },
  {
   "cell_type": "code",
   "execution_count": 69,
   "metadata": {},
   "outputs": [
    {
     "name": "stdout",
     "output_type": "stream",
     "text": [
      "Exception reporting mode: Minimal\n"
     ]
    },
    {
     "ename": "TypeError",
     "evalue": "'<class 'jaxlib.xla_extension.ArrayImpl'>' object does not support item assignment. JAX arrays are immutable. Instead of ``x[idx] = y``, use ``x = x.at[idx].set(y)`` or another .at[] method: https://jax.readthedocs.io/en/latest/_autosummary/jax.numpy.ndarray.at.html",
     "output_type": "error",
     "traceback": [
      "\u001b[0;31mTypeError\u001b[0m\u001b[0;31m:\u001b[0m '<class 'jaxlib.xla_extension.ArrayImpl'>' object does not support item assignment. JAX arrays are immutable. Instead of ``x[idx] = y``, use ``x = x.at[idx].set(y)`` or another .at[] method: https://jax.readthedocs.io/en/latest/_autosummary/jax.numpy.ndarray.at.html\n"
     ]
    }
   ],
   "source": [
    "# JAX: has immutable arrays\n",
    "%xmode minimal\n",
    "y_jx_arr[0] = 10"
   ]
  },
  {
   "cell_type": "code",
   "execution_count": 32,
   "metadata": {},
   "outputs": [
    {
     "name": "stdout",
     "output_type": "stream",
     "text": [
      "[0 1 2 3 4 5 6 7 8 9]\n",
      "[10  1  2  3  4  5  6  7  8  9]\n"
     ]
    }
   ],
   "source": [
    "# To Update\n",
    "y_jx_arr = x_jx_arr.at[0].set(10)\n",
    "print(x_jx_arr)\n",
    "print(y_jx_arr)"
   ]
  },
  {
   "cell_type": "markdown",
   "metadata": {},
   "source": [
    "## Pytorch"
   ]
  },
  {
   "cell_type": "code",
   "execution_count": 81,
   "metadata": {},
   "outputs": [
    {
     "name": "stdout",
     "output_type": "stream",
     "text": [
      "tensor([25,  2,  5])\n",
      "tensor(0)\n"
     ]
    }
   ],
   "source": [
    "x_pt_arr = torch.tensor([25, 2, 5])\n",
    "print(x_pt_arr)\n",
    "\n",
    "# Orthogonal Vectors\n",
    "print(\n",
    "    torch.dot(\n",
    "        torch.tensor([1, 0]), \n",
    "        torch.tensor([0, 1])\n",
    "        )\n",
    "    )\n"
   ]
  },
  {
   "cell_type": "markdown",
   "metadata": {},
   "source": [
    "# Tensorflow"
   ]
  },
  {
   "cell_type": "code",
   "execution_count": 86,
   "metadata": {},
   "outputs": [
    {
     "name": "stdout",
     "output_type": "stream",
     "text": [
      "tf.Tensor(0, shape=(), dtype=int32)\n"
     ]
    }
   ],
   "source": [
    "x_tf = tf.Variable([25, 2, 5])\n",
    "x_tf\n",
    "\n",
    "# Orthogonal Vectors\n",
    "print(\n",
    "    tf.tensordot(\n",
    "        tf.Variable([1, 0]), \n",
    "        tf.Variable([0, 1]),\n",
    "        1\n",
    "        )\n",
    "    )\n"
   ]
  },
  {
   "cell_type": "markdown",
   "metadata": {},
   "source": [
    "# Matrices (Rank 2 Tensors)"
   ]
  },
  {
   "cell_type": "markdown",
   "metadata": {},
   "source": [
    "## Numpy"
   ]
  },
  {
   "cell_type": "code",
   "execution_count": 93,
   "metadata": {},
   "outputs": [
    {
     "name": "stdout",
     "output_type": "stream",
     "text": [
      "[[25  2]\n",
      " [ 5 26]\n",
      " [ 3  7]]\n",
      "(3, 2)\n",
      "6\n",
      "\n",
      "[25  5  3]\n",
      "[ 5 26]\n",
      "[[25  2]\n",
      " [ 5 26]]\n"
     ]
    }
   ],
   "source": [
    "# Use array() with nested brackets: \n",
    "X = np.array([[25, 2], [5, 26], [3, 7]])\n",
    "print(X)\n",
    "print(X.shape)\n",
    "print(X.size)\n",
    "print()\n",
    "# Select left column of matrix X (zero-indexed)\n",
    "print(X[:,0])\n",
    "\n",
    "# Select middle row of matrix X: \n",
    "print(X[1,:])\n",
    "\n",
    "# Another slicing-by-index example: \n",
    "print(X[0:2, 0:2])"
   ]
  },
  {
   "cell_type": "code",
   "execution_count": 95,
   "metadata": {},
   "outputs": [
    {
     "name": "stdout",
     "output_type": "stream",
     "text": [
      "[[ 1 -1  3]\n",
      " [ 3  5  1]\n",
      " [ 7  0  9]]\n",
      "(3, 3)\n",
      "9\n",
      "\n",
      "[1 3 7]\n",
      "[3 5 1]\n",
      "[[ 1 -1]\n",
      " [ 3  5]]\n"
     ]
    }
   ],
   "source": [
    "A = jnp.array([[1, -1, 3],[ 3, 5, 1],[7, 0, 9]])\n",
    "print(A)\n",
    "print(A.shape)\n",
    "print(A.size)\n",
    "print()\n",
    "# Select left column of matrix A (zero-indexed)\n",
    "print(A[:,0])\n",
    "\n",
    "# Select middle row of matrix A: \n",
    "print(A[1,:])\n",
    "\n",
    "# Another slicing-by-index example: \n",
    "print(A[0:2, 0:2])"
   ]
  },
  {
   "cell_type": "code",
   "execution_count": null,
   "metadata": {},
   "outputs": [],
   "source": []
  }
 ],
 "metadata": {
  "kernelspec": {
   "display_name": "jupyter",
   "language": "python",
   "name": "python3"
  },
  "language_info": {
   "codemirror_mode": {
    "name": "ipython",
    "version": 3
   },
   "file_extension": ".py",
   "mimetype": "text/x-python",
   "name": "python",
   "nbconvert_exporter": "python",
   "pygments_lexer": "ipython3",
   "version": "3.10.13"
  }
 },
 "nbformat": 4,
 "nbformat_minor": 2
}
